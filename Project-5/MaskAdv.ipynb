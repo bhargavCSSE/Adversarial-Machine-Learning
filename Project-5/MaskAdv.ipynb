{
 "cells": [
  {
   "cell_type": "code",
   "execution_count": 19,
   "metadata": {
    "collapsed": true,
    "pycharm": {
     "is_executing": false
    }
   },
   "outputs": [],
   "source": [
    "import numpy as np\n",
    "mask = np.load('mask.npy')"
   ]
  },
  {
   "cell_type": "code",
   "execution_count": 20,
   "outputs": [],
   "source": [
    "import pandas as pd\n",
    "df = pd.read_csv('datasets/casis25_ncu.txt', header=None)\n",
    "features = ['casis25_char-gram_gram=3-limit=1000.txt', 'casis25_bow.txt', 'casis25_sty.txt']"
   ],
   "metadata": {
    "collapsed": false,
    "pycharm": {
     "name": "#%%\n",
     "is_executing": false
    }
   }
  },
  {
   "cell_type": "code",
   "execution_count": 21,
   "outputs": [
    {
     "name": "stdout",
     "text": [
      "(106, 1001)\nadding casis25_char-gram_gram=3-limit=1000.txt\n",
      "(106, 6119)\nadding casis25_bow.txt\n(106, 429)\nadding casis25_sty.txt\n             0  1_x  2_x  3_x  4_x  5_x  6_x  7_x  8_x  9_x  ...  419  420  \\\n0       1005_3  212    0    0    0    0    0    0    2    0  ...    0    0   \n1       1007_1  218    0    0    0    0    0    0    1    0  ...    0    0   \n2       1021_2  115    0    0    0    0    0    0    0    0  ...    0    0   \n3       1021_3  154    0    0    0    0    0    0    0    0  ...    0    0   \n4       1023_1  198    0    0    0    0    0    0    0    3  ...    0    1   \n..         ...  ...  ...  ...  ...  ...  ...  ...  ...  ...  ...  ...  ...   \n101     1009_2  261    3    0    0    0    0    0    6    2  ...    1    1   \n102     1009_3  270    0    0    0    0    0    2    3    1  ...    0    0   \n103  advText02  157    0    0    0    0    0    0    0    0  ...    0    0   \n104     1016_4  285    0    0    0    0    0    0    0    1  ...    0    0   \n105     1010_2  231    0    0    0    0    0    0    5    0  ...    0    0   \n\n     421  422  423  424  425  426  427  428  \n0      0    0    0    0    0    0    0    0  \n1      0    0    0    0    0    0    0    0  \n2      0    0    0    0    0    0    0    0  \n3      0    0    0    0    0    0    0    0  \n4      0    0    0    0    0    0    0    0  \n..   ...  ...  ...  ...  ...  ...  ...  ...  \n101    0    0    0    0    0    0    0    0  \n102    0    0    0    0    0    0    0    0  \n103    0    0    0    0    0    0    0    0  \n104    0    0    0    0    0    0    0    0  \n105    0    0    0    0    0    0    0    0  \n\n[106 rows x 7642 columns]\n"
     ],
     "output_type": "stream"
    }
   ],
   "source": [
    "for feature in features:\n",
    "    df_feature = pd.read_csv(\"datasets/\" + feature, header=None)\n",
    "    df = pd.merge(df, df_feature, on=0, how=\"left\")\n",
    "    print(df_feature.shape)\n",
    "    print('adding {}'.format(feature))\n",
    "print(df)"
   ],
   "metadata": {
    "collapsed": false,
    "pycharm": {
     "name": "#%%\n",
     "is_executing": false
    }
   }
  },
  {
   "cell_type": "code",
   "execution_count": 22,
   "outputs": [],
   "source": [
    "df[\"label\"] = df[0].map(lambda x: str(x)[0:4])\n",
    "df = df.drop(df.columns[[0]], axis=1)\n",
    "feature_df = df\n",
    "df_x = feature_df.drop([\"label\"], 1)\n",
    "df_x = df_x.loc[:, mask]\n",
    "x = np.array(df_x)\n",
    "y = np.array(feature_df[\"label\"])"
   ],
   "metadata": {
    "collapsed": false,
    "pycharm": {
     "name": "#%%\n",
     "is_executing": false
    }
   }
  },
  {
   "cell_type": "code",
   "execution_count": 26,
   "outputs": [
    {
     "name": "stdout",
     "text": [
      "     1_x  2_x  4_x  5_x  9_x  10_x  12_x  13_x  14_x  15_x  ...  408  410  \\\n0    212    0    0    0    0     0     0    14     0    10  ...    0    0   \n1    218    0    0    0    0     0     0    11     3     4  ...    0    5   \n2    115    0    0    0    0     0     0     9     2     7  ...    0    0   \n3    154    0    0    0    0     0     0    11     2     6  ...    0    0   \n4    198    0    0    0    3     3     0    10     0     9  ...    0    0   \n..   ...  ...  ...  ...  ...   ...   ...   ...   ...   ...  ...  ...  ...   \n101  261    3    0    0    2     2     0     9     1    19  ...    0    1   \n102  270    0    0    0    1     1     0    12     3    18  ...    0    0   \n103  157    0    0    0    0     0     0     8     3     6  ...    0    0   \n104  285    0    0    0    1     1     0    10     1    13  ...    0    1   \n105  231    0    0    0    0     0     0     2    11    12  ...    0    0   \n\n     411  413  416  417  419  420  422  426  \n0      2    0    0    0    0    0    0    0  \n1      3    0    0    0    0    0    0    0  \n2      1    0    0    0    0    0    0    0  \n3      1    0    0    0    0    0    0    0  \n4      2    0    0    0    0    1    0    0  \n..   ...  ...  ...  ...  ...  ...  ...  ...  \n101    0    0    0    1    1    1    0    0  \n102    2    0    0    0    0    0    0    0  \n103    0    0    0    0    0    0    0    0  \n104    1    0    0    0    0    0    0    0  \n105    3    0    0    0    0    0    0    0  \n\n[106 rows x 5085 columns]\n"
     ],
     "output_type": "stream"
    }
   ],
   "source": [
    "print(df_x)\n",
    "df_x.insert(0,'Label',y,True)\n",
    "df_x.to_csv('datasets/final_mask.csv')"
   ],
   "metadata": {
    "collapsed": false,
    "pycharm": {
     "name": "#%%\n",
     "is_executing": false
    }
   }
  },
  {
   "cell_type": "code",
   "execution_count": 30,
   "outputs": [
    {
     "name": "stdout",
     "text": [
      "[]\n[]\n[]\n"
     ],
     "output_type": "stream"
    }
   ],
   "source": [
    "for elem in range(3):\n",
    "    pred_list = ['1005', '1006', '1007']\n",
    "    duplicates = [x for n, x in enumerate(pred_list) if x in pred_list[:n]]\n",
    "    print(duplicates)\n"
   ],
   "metadata": {
    "collapsed": false,
    "pycharm": {
     "name": "#%%\n",
     "is_executing": false
    }
   }
  }
 ],
 "metadata": {
  "kernelspec": {
   "display_name": "Python 3",
   "language": "python",
   "name": "python3"
  },
  "language_info": {
   "codemirror_mode": {
    "name": "ipython",
    "version": 2
   },
   "file_extension": ".py",
   "mimetype": "text/x-python",
   "name": "python",
   "nbconvert_exporter": "python",
   "pygments_lexer": "ipython2",
   "version": "2.7.6"
  },
  "pycharm": {
   "stem_cell": {
    "cell_type": "raw",
    "source": [],
    "metadata": {
     "collapsed": false
    }
   }
  }
 },
 "nbformat": 4,
 "nbformat_minor": 0
}